{
 "cells": [
  {
   "cell_type": "code",
   "execution_count": 1,
   "metadata": {},
   "outputs": [
    {
     "name": "stderr",
     "output_type": "stream",
     "text": [
      "Using TensorFlow backend.\n"
     ]
    }
   ],
   "source": [
    "import numpy as np, pandas as pd, matplotlib.pyplot as plt\n",
    "import keras, os, cv2\n",
    "from zipfile import ZipFile\n",
    "%matplotlib inline"
   ]
  },
  {
   "cell_type": "code",
   "execution_count": 2,
   "metadata": {},
   "outputs": [],
   "source": [
    "with ZipFile('data.zip', 'r') as zipObj:\n",
    "    zipObj.extractall()"
   ]
  },
  {
   "cell_type": "code",
   "execution_count": 3,
   "metadata": {},
   "outputs": [],
   "source": [
    "train_path = 'data/train/'\n",
    "test_path = 'data/val/'"
   ]
  },
  {
   "cell_type": "markdown",
   "metadata": {},
   "source": [
    "## BUILDING THE MODEL"
   ]
  },
  {
   "cell_type": "code",
   "execution_count": 4,
   "metadata": {},
   "outputs": [],
   "source": [
    "model = keras.models.Sequential()\n",
    "\n",
    "# Convolution/Pooling Layers\n",
    "model.add(keras.layers.Conv2D(filters=32, kernel_size=(3,3), activation='relu', input_shape=(20,20,3)))\n",
    "model.add(keras.layers.MaxPool2D())\n",
    "\n",
    "model.add(keras.layers.Conv2D(filters=32, kernel_size=(3,3), activation='relu', input_shape=(20,20,3)))\n",
    "model.add(keras.layers.MaxPool2D())\n",
    "\n",
    "# Flatten\n",
    "model.add(keras.layers.Flatten())\n",
    "\n",
    "# Dense/Dropout Layers\n",
    "model.add(keras.layers.Dense(units=400, activation='relu'))\n",
    "model.add(keras.layers.Dropout(0.2))\n",
    "\n",
    "model.add(keras.layers.Dense(units=128, activation='relu'))\n",
    "model.add(keras.layers.Dropout(0.2))\n",
    "\n",
    "# Classification Dense Layer\n",
    "model.add(keras.layers.Dense(units=36, activation='softmax'))\n",
    "\n",
    "model.compile(loss='categorical_crossentropy',\n",
    "              optimizer='adam',\n",
    "              metrics=['accuracy'])"
   ]
  },
  {
   "cell_type": "code",
   "execution_count": 5,
   "metadata": {},
   "outputs": [
    {
     "name": "stdout",
     "output_type": "stream",
     "text": [
      "Model: \"sequential_1\"\n",
      "_________________________________________________________________\n",
      "Layer (type)                 Output Shape              Param #   \n",
      "=================================================================\n",
      "conv2d_1 (Conv2D)            (None, 18, 18, 32)        896       \n",
      "_________________________________________________________________\n",
      "max_pooling2d_1 (MaxPooling2 (None, 9, 9, 32)          0         \n",
      "_________________________________________________________________\n",
      "conv2d_2 (Conv2D)            (None, 7, 7, 32)          9248      \n",
      "_________________________________________________________________\n",
      "max_pooling2d_2 (MaxPooling2 (None, 3, 3, 32)          0         \n",
      "_________________________________________________________________\n",
      "flatten_1 (Flatten)          (None, 288)               0         \n",
      "_________________________________________________________________\n",
      "dense_1 (Dense)              (None, 400)               115600    \n",
      "_________________________________________________________________\n",
      "dropout_1 (Dropout)          (None, 400)               0         \n",
      "_________________________________________________________________\n",
      "dense_2 (Dense)              (None, 128)               51328     \n",
      "_________________________________________________________________\n",
      "dropout_2 (Dropout)          (None, 128)               0         \n",
      "_________________________________________________________________\n",
      "dense_3 (Dense)              (None, 36)                4644      \n",
      "=================================================================\n",
      "Total params: 181,716\n",
      "Trainable params: 181,716\n",
      "Non-trainable params: 0\n",
      "_________________________________________________________________\n"
     ]
    }
   ],
   "source": [
    "model.summary()"
   ]
  },
  {
   "cell_type": "code",
   "execution_count": 6,
   "metadata": {},
   "outputs": [],
   "source": [
    "train_image_data_gen = keras.preprocessing.image.ImageDataGenerator(rescale=1/255, \n",
    "                                                              shear_range=0.3, \n",
    "                                                              zoom_range=0.3,\n",
    "                                                              width_shift_range=0.2,\n",
    "                                                              height_shift_range=0.2)\n",
    "test_image_data_gen = keras.preprocessing.image.ImageDataGenerator(rescale=1/255)"
   ]
  },
  {
   "cell_type": "code",
   "execution_count": 7,
   "metadata": {},
   "outputs": [
    {
     "name": "stdout",
     "output_type": "stream",
     "text": [
      "Found 864 images belonging to 36 classes.\n",
      "Found 216 images belonging to 36 classes.\n"
     ]
    }
   ],
   "source": [
    "train_img_gen = train_image_data_gen.flow_from_directory(directory=train_path, target_size=(20,20))\n",
    "val_img_gen = test_image_data_gen.flow_from_directory(directory=test_path, target_size=(20,20), shuffle=False)"
   ]
  },
  {
   "cell_type": "code",
   "execution_count": 8,
   "metadata": {},
   "outputs": [
    {
     "name": "stdout",
     "output_type": "stream",
     "text": [
      "Epoch 1/30\n",
      "864/864 [==============================] - 72s 83ms/step - loss: 1.3744 - accuracy: 0.5693 - val_loss: 0.1091 - val_accuracy: 0.8885\n",
      "Epoch 2/30\n",
      "864/864 [==============================] - 51s 59ms/step - loss: 0.5443 - accuracy: 0.8077 - val_loss: 0.2433 - val_accuracy: 0.9491\n",
      "Epoch 3/30\n",
      "864/864 [==============================] - 52s 60ms/step - loss: 0.4064 - accuracy: 0.8533 - val_loss: 0.0746 - val_accuracy: 0.9536\n",
      "Epoch 4/30\n",
      "864/864 [==============================] - 50s 57ms/step - loss: 0.3470 - accuracy: 0.8706 - val_loss: 0.3130 - val_accuracy: 0.9535\n",
      "Epoch 5/30\n",
      "864/864 [==============================] - 47s 54ms/step - loss: 0.3140 - accuracy: 0.8836 - val_loss: 0.0213 - val_accuracy: 0.9634\n",
      "Epoch 6/30\n",
      "864/864 [==============================] - 49s 57ms/step - loss: 0.2796 - accuracy: 0.8937 - val_loss: 0.1163 - val_accuracy: 0.9535\n",
      "Epoch 7/30\n",
      "864/864 [==============================] - 46s 53ms/step - loss: 0.2634 - accuracy: 0.9002 - val_loss: 0.0121 - val_accuracy: 0.9541\n",
      "Epoch 8/30\n",
      "864/864 [==============================] - 47s 55ms/step - loss: 0.2573 - accuracy: 0.9008 - val_loss: 0.0430 - val_accuracy: 0.9535\n",
      "Epoch 9/30\n",
      "864/864 [==============================] - 47s 54ms/step - loss: 0.2361 - accuracy: 0.9075 - val_loss: 0.0954 - val_accuracy: 0.9629\n",
      "Epoch 10/30\n",
      "864/864 [==============================] - 48s 55ms/step - loss: 0.2266 - accuracy: 0.9139 - val_loss: 0.0090 - val_accuracy: 0.9674\n",
      "Epoch 11/30\n",
      "864/864 [==============================] - 47s 54ms/step - loss: 0.2208 - accuracy: 0.9133 - val_loss: 0.1256 - val_accuracy: 0.97690.91\n",
      "Epoch 12/30\n",
      "864/864 [==============================] - 49s 56ms/step - loss: 0.2167 - accuracy: 0.9138 - val_loss: 0.0084 - val_accuracy: 0.9632\n",
      "Epoch 13/30\n",
      "864/864 [==============================] - 49s 56ms/step - loss: 0.2150 - accuracy: 0.9146 - val_loss: 0.0937 - val_accuracy: 0.9628\n",
      "Epoch 14/30\n",
      "864/864 [==============================] - 47s 54ms/step - loss: 0.2002 - accuracy: 0.9215 - val_loss: 0.0086 - val_accuracy: 0.9676\n",
      "Epoch 15/30\n",
      "864/864 [==============================] - 46s 54ms/step - loss: 0.1950 - accuracy: 0.9220 - val_loss: 0.0110 - val_accuracy: 0.9721\n",
      "Epoch 16/30\n",
      "864/864 [==============================] - 47s 55ms/step - loss: 0.1976 - accuracy: 0.9238 - val_loss: 0.0802 - val_accuracy: 0.9814\n",
      "Epoch 17/30\n",
      "864/864 [==============================] - 49s 56ms/step - loss: 0.1931 - accuracy: 0.9240 - val_loss: 0.0207 - val_accuracy: 0.9767\n",
      "Epoch 18/30\n",
      "864/864 [==============================] - 47s 54ms/step - loss: 0.1885 - accuracy: 0.9249 - val_loss: 0.0367 - val_accuracy: 0.9674\n",
      "Epoch 19/30\n",
      "864/864 [==============================] - 45s 53ms/step - loss: 0.1826 - accuracy: 0.9271 - val_loss: 0.0754 - val_accuracy: 0.9724\n",
      "Epoch 20/30\n",
      "864/864 [==============================] - 47s 54ms/step - loss: 0.1752 - accuracy: 0.9291 - val_loss: 0.2113 - val_accuracy: 0.9767\n",
      "Epoch 21/30\n",
      "864/864 [==============================] - 47s 55ms/step - loss: 0.1687 - accuracy: 0.9320 - val_loss: 0.0027 - val_accuracy: 0.9817\n",
      "Epoch 22/30\n",
      "864/864 [==============================] - 46s 53ms/step - loss: 0.1702 - accuracy: 0.9323 - val_loss: 0.0014 - val_accuracy: 0.9861\n",
      "Epoch 23/30\n",
      "864/864 [==============================] - 46s 53ms/step - loss: 0.1705 - accuracy: 0.9328 - val_loss: 0.1013 - val_accuracy: 0.9721\n",
      "Epoch 24/30\n",
      "864/864 [==============================] - 46s 53ms/step - loss: 0.1643 - accuracy: 0.9327 - val_loss: 0.0107 - val_accuracy: 0.9725\n",
      "Epoch 25/30\n",
      "864/864 [==============================] - 48s 56ms/step - loss: 0.1681 - accuracy: 0.9333 - val_loss: 0.1216 - val_accuracy: 0.9767\n",
      "Epoch 26/30\n",
      "864/864 [==============================] - 64s 74ms/step - loss: 0.1613 - accuracy: 0.9351 - val_loss: 0.0089 - val_accuracy: 0.9769\n",
      "Epoch 27/30\n",
      "864/864 [==============================] - 51s 59ms/step - loss: 0.1654 - accuracy: 0.9343 - val_loss: 0.1568 - val_accuracy: 0.9860\n",
      "Epoch 28/30\n",
      "864/864 [==============================] - 47s 54ms/step - loss: 0.1543 - accuracy: 0.9377 - val_loss: 0.0020 - val_accuracy: 0.9955\n",
      "Epoch 29/30\n",
      "864/864 [==============================] - 51s 59ms/step - loss: 0.1557 - accuracy: 0.9373 - val_loss: 3.9505e-04 - val_accuracy: 0.9675\n",
      "Epoch 30/30\n",
      "864/864 [==============================] - 45s 52ms/step - loss: 0.1569 - accuracy: 0.9368 - val_loss: 0.0563 - val_accuracy: 0.9860\n"
     ]
    },
    {
     "data": {
      "text/plain": [
       "<keras.callbacks.callbacks.History at 0x21c42b2aa88>"
      ]
     },
     "execution_count": 8,
     "metadata": {},
     "output_type": "execute_result"
    }
   ],
   "source": [
    "model.fit_generator(train_img_gen, steps_per_epoch=864, epochs=30, validation_data=val_img_gen, validation_steps=216)"
   ]
  },
  {
   "cell_type": "code",
   "execution_count": 17,
   "metadata": {},
   "outputs": [],
   "source": [
    "model.save('character_classification_new.h5')"
   ]
  },
  {
   "cell_type": "code",
   "execution_count": null,
   "metadata": {},
   "outputs": [],
   "source": []
  }
 ],
 "metadata": {
  "kernelspec": {
   "display_name": "Python 3",
   "language": "python",
   "name": "python3"
  },
  "language_info": {
   "codemirror_mode": {
    "name": "ipython",
    "version": 3
   },
   "file_extension": ".py",
   "mimetype": "text/x-python",
   "name": "python",
   "nbconvert_exporter": "python",
   "pygments_lexer": "ipython3",
   "version": "3.7.7"
  }
 },
 "nbformat": 4,
 "nbformat_minor": 4
}
